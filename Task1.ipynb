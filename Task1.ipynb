{
 "cells": [
  {
   "cell_type": "markdown",
   "source": [
    "# Парагараф 24"
   ],
   "metadata": {
    "collapsed": false,
    "pycharm": {
     "name": "#%% md\n"
    }
   }
  },
  {
   "cell_type": "markdown",
   "source": [
    "## Задание 1"
   ],
   "metadata": {
    "collapsed": false,
    "pycharm": {
     "name": "#%% md\n"
    }
   }
  },
  {
   "cell_type": "code",
   "execution_count": 1,
   "outputs": [
    {
     "name": "stdout",
     "output_type": "stream",
     "text": [
      "o\n",
      "oo\n",
      "ooo\n",
      "oooo\n",
      "ooooo\n"
     ]
    }
   ],
   "source": [
    "def print_triangle(c, N):\n",
    "\t# Проходим в цикле от 1 до N (включительно)\n",
    "\tfor i in range(1, N + 1):\n",
    "\t\t# Печатаем символ 'c' i раз, чтобы сформировать треугольник\n",
    "\t\tprint(c * i)\n",
    "\n",
    "# Пример вызова функции\n",
    "print_triangle(\"o\", 5)"
   ],
   "metadata": {
    "collapsed": false,
    "pycharm": {
     "name": "#%%\n"
    }
   }
  },
  {
   "cell_type": "markdown",
   "source": [
    "Объяснение\n",
    "\n",
    "- `def print_triangle(c, N):` Определяет процедуру с именем `print_triangle`. Эта процедура принимает два аргумента: символ `c` и число `N`.\n",
    "- `for i in range(1, N + 1):` Это цикл `for`, который итерируется от 1 до `N`, включая `N`. Каждая итерация соответствует одной строке в треугольнике.\n",
    "- `print(c * i)` Команда печати. Она умножает символ `c` на текущее значение `i`, что приводит к созданию строки из `i` повторений символа `c`. Это формирует одну горизонтальную линию треугольника.\n",
    "- В примере вызова `print_triangle(\"o\", 5)`, процедура создает треугольник с символом 'o' и высотой 5 строк.\n"
   ],
   "metadata": {
    "collapsed": false,
    "pycharm": {
     "name": "#%% md\n"
    }
   }
  },
  {
   "cell_type": "markdown",
   "source": [
    "## Задание 3"
   ],
   "metadata": {
    "collapsed": false,
    "pycharm": {
     "name": "#%% md\n"
    }
   }
  },
  {
   "cell_type": "code",
   "execution_count": 2,
   "outputs": [
    {
     "name": "stdout",
     "output_type": "stream",
     "text": [
      "5\n",
      "4\n",
      "3\n",
      "2\n",
      "1\n"
     ]
    }
   ],
   "source": [
    "def print_digits_reversed(n):\n",
    "\t# Преобразуем число в строку, чтобы работать с каждой цифрой отдельно\n",
    "\tstr_n = str(n)\n",
    "\t# Итерируемся по строке в обратном порядке\n",
    "\tfor digit in reversed(str_n):\n",
    "\t\t# Выводим каждую цифру на новой строке\n",
    "\t\tprint(digit)\n",
    "\n",
    "# Пример вызова функции\n",
    "print_digits_reversed(12345)"
   ],
   "metadata": {
    "collapsed": false,
    "pycharm": {
     "name": "#%%\n"
    }
   }
  },
  {
   "cell_type": "markdown",
   "source": [
    "Объяснение\n",
    "\n",
    "- `def print_digits_reversed(n):` Определяет процедуру с именем `print_digits_reversed`, которая принимает один аргумент `n` (число).\n",
    "- `str_n = str(n):` Преобразует число `n` в строку, чтобы можно было итерироваться по каждой его цифре.\n",
    "- `for digit in reversed(str_n):` Итерирует по строке в обратном порядке, чтобы начать вывод с последней цифры.\n",
    "- `print(digit)` Выводит каждую цифру на новой строке, создавая столбик цифр числа в обратном порядке.\n",
    "- В примере вызова `print_digits_reversed(12345)`, процедура выводит цифры числа 12345 в обратном порядке: `5`, `4`, `3`, `2`, `1`.\n"
   ],
   "metadata": {
    "collapsed": false,
    "pycharm": {
     "name": "#%% md\n"
    }
   }
  },
  {
   "cell_type": "markdown",
   "source": [
    "## Карточка"
   ],
   "metadata": {
    "collapsed": false,
    "pycharm": {
     "name": "#%% md\n"
    }
   }
  },
  {
   "cell_type": "code",
   "execution_count": 4,
   "outputs": [
    {
     "name": "stdout",
     "output_type": "stream",
     "text": [
      "0\n",
      "1\n",
      "1\n"
     ]
    }
   ],
   "source": [
    "\n",
    "n = 6\n",
    "# пока n не равно 0\n",
    "while n != 0:\n",
    "\t# выводим остаток от деления на 2\n",
    "\tprint(n % 2)\n",
    "\t# целочисленное деление\n",
    "\tn = n // 2"
   ],
   "metadata": {
    "collapsed": false,
    "pycharm": {
     "name": "#%%\n"
    }
   }
  },
  {
   "cell_type": "markdown",
   "source": [
    "Объяснение\n",
    "\n",
    "\n",
    "Шаг 1:\n",
    "n = 6\n",
    "n % 2 то есть 6 % 2 = 0 (младший бит)\n",
    "n = n // 2 то есть 6 // 2 = 3\n",
    "\n",
    "Шаг 2:\n",
    "n = 3\n",
    "n % 2 то есть 3 % 2 = 1\n",
    "n = n // 2 то есть 3 // 2 = 1\n",
    "\n",
    "Шаг 3:\n",
    "n = 1\n",
    "n % 2 то есть 1 % 2 = 1\n",
    "n = n // 2 то есть 1 // 2 = 0\n",
    "\n",
    "\n",
    "Алгоритм, преобразует десятичное число в его двоичное представление, печатая двоичные цифры в обратном порядке (начиная с младшего бита). При каждом шаге цикла while алгоритм выводит остаток от деления числа n на 2 (что дает последнюю цифру двоичного представления) и затем делит n на 2 без остатка, чтобы перейти к следующему биту.\n",
    "\n",
    "В примере с числом 6:\n",
    "Двоичное представление 6 в прямом порядке: 110.\n",
    "Алгоритм выводит: 0 (первый шаг), 1 (второй шаг), 1 (третий шаг).\n",
    "Таким образом, алгоритм преобразует число в его двоичное представление, но выводит цифры в обратном порядке."
   ],
   "metadata": {
    "collapsed": false,
    "pycharm": {
     "name": "#%% md\n"
    }
   }
  },
  {
   "cell_type": "markdown",
   "source": [
    "# Параграф 25"
   ],
   "metadata": {
    "collapsed": false,
    "pycharm": {
     "name": "#%% md\n"
    }
   }
  },
  {
   "cell_type": "markdown",
   "source": [
    "## Задача 2"
   ],
   "metadata": {
    "collapsed": false,
    "pycharm": {
     "name": "#%% md\n"
    }
   }
  },
  {
   "cell_type": "code",
   "execution_count": 7,
   "outputs": [
    {
     "name": "stdout",
     "output_type": "stream",
     "text": [
      "5\n"
     ]
    }
   ],
   "source": [
    "# исходная функция\n",
    "# объяснение данной функции в учебнике\n",
    "def sum_digits(n):\n",
    "\tsumma = 0\n",
    "\twhile n != 0:\n",
    "\t\tdigit = n % 10\n",
    "\t\tsumma += digit\n",
    "\t\tn = n //10\n",
    "\treturn summa\n",
    "\n",
    "print(sum_digits(23))"
   ],
   "metadata": {
    "collapsed": false,
    "pycharm": {
     "name": "#%%\n"
    }
   }
  },
  {
   "cell_type": "markdown",
   "source": [
    "Как нужно изменить функцию, чтобы она вычисляла\n",
    "количество цифр числа?"
   ],
   "metadata": {
    "collapsed": false,
    "pycharm": {
     "name": "#%% md\n"
    }
   }
  },
  {
   "cell_type": "code",
   "execution_count": 6,
   "outputs": [
    {
     "name": "stdout",
     "output_type": "stream",
     "text": [
      "2\n"
     ]
    }
   ],
   "source": [
    "# Вместо того чтобы складывать цифры, функция должна просто считать их количество\n",
    "\n",
    "def count_digits(n):\n",
    "\tcount = 0  # Счетчик цифр\n",
    "\twhile n != 0:\n",
    "\t\tn = n // 10  # Удаляем последнюю цифру числа\n",
    "\t\tcount += 1  # Увеличиваем счетчик на 1\n",
    "\treturn count\n",
    "\n",
    "print(count_digits(55))"
   ],
   "metadata": {
    "collapsed": false,
    "pycharm": {
     "name": "#%%\n"
    }
   }
  },
  {
   "cell_type": "markdown",
   "source": [
    "Объяснение\n",
    "- **Инициализация переменной `count`:** Переменная `count` инициализируется для подсчета количества цифр в числе.\n",
    "\n",
    "- **Цикл `while` для деления числа `n`:** В цикле `while` число `n` делится на 10. При каждом делении последняя цифра числа отбрасывается.\n",
    "\n",
    "- **Увеличение счетчика `count`:** После каждого деления счетчик `count` увеличивается на 1, подсчитывая количество выполненных делений, что соответствует количеству цифр.\n",
    "\n",
    "- **Возврат результата:** Как только `n` станет равным 0 (то есть когда все цифры будут обработаны), цикл завершается. Функция возвращает значение `count`, которое равно количеству цифр в исходном числе.\n"
   ],
   "metadata": {
    "collapsed": false,
    "pycharm": {
     "name": "#%% md\n"
    }
   }
  },
  {
   "cell_type": "markdown",
   "source": [
    "Как нужно изменить функцию, чтобы она вычисляла\n",
    "количество единиц в двоичной записи числа.\n"
   ],
   "metadata": {
    "collapsed": false,
    "pycharm": {
     "name": "#%% md\n"
    }
   }
  },
  {
   "cell_type": "code",
   "execution_count": 11,
   "outputs": [
    {
     "name": "stdout",
     "output_type": "stream",
     "text": [
      "3\n"
     ]
    }
   ],
   "source": [
    "# Для изменения функции таким образом,чтобы она вычисляла количество единиц в двоичной записи числа,\n",
    "# нужно использовать операцию взятия остатка от деления на 2 и целочисленного деления на 2 в цикле.\n",
    "# Каждый раз, когда остаток от деления равен 1, это означает, что в двоичном представлении числа на соответствующем месте стоит 1.\n",
    "\n",
    "\n",
    "def count_binary_ones(n):\n",
    "\tcount = 0  # Счетчик единиц\n",
    "\twhile n > 0:\n",
    "\t\tif n % 2 == 1:  # Проверяем, является ли последняя цифра двоичного числа 1\n",
    "\t\t\tcount += 1\n",
    "\t\tn = n // 2  # Удаляем последнюю цифру двоичного числа\n",
    "\treturn count\n",
    "\n",
    "print(count_binary_ones(7))"
   ],
   "metadata": {
    "collapsed": false,
    "pycharm": {
     "name": "#%%\n"
    }
   }
  },
  {
   "cell_type": "markdown",
   "source": [
    "Объяснение\n",
    "\n",
    "- **Инициализация счетчика:**\n",
    "  - `count = 0` инициализирует переменную для подсчета количества единиц.\n",
    "\n",
    "- **Цикл обработки числа:**\n",
    "  - `while n > 0:` Цикл продолжается до тех пор, пока число не станет равным нулю.\n",
    "  - `if n % 2 == 1:` Проверяет, равен ли остаток от деления числа `n` на 2 единице, что указывает на наличие единицы в текущем младшем бите числа в двоичном представлении.\n",
    "  - `count += 1` увеличивает счетчик, если текущий младший бит равен 1.\n",
    "  - `n = n // 2` удаляет младший бит числа, сдвигая все биты на одну позицию вправо, для анализа следующего бита.\n",
    "\n",
    "- **Возврат результата:**\n",
    "  - Функция возвращает значение `count`, которое равно количеству единиц в двоичном представлении исходного числа.\n",
    "\n"
   ],
   "metadata": {
    "collapsed": false,
    "pycharm": {
     "name": "#%% md\n"
    }
   }
  },
  {
   "cell_type": "markdown",
   "source": [
    "## Карточка"
   ],
   "metadata": {
    "collapsed": false,
    "pycharm": {
     "name": "#%% md\n"
    }
   }
  },
  {
   "cell_type": "markdown",
   "source": [
    "### Задание 1"
   ],
   "metadata": {
    "collapsed": false,
    "pycharm": {
     "name": "#%% md\n"
    }
   }
  },
  {
   "cell_type": "code",
   "execution_count": 12,
   "outputs": [
    {
     "name": "stdout",
     "output_type": "stream",
     "text": [
      "13.0\n"
     ]
    }
   ],
   "source": [
    "# учебник страница 67\n",
    "def Avg( a, b ):\n",
    "\tsred = (a+b)/2\n",
    "\treturn sred\n",
    "\n",
    "# среднее арифметическое 3 и 5 будет 4\n",
    "sr = Avg(3, 5)\n",
    "# 4 + среднее арифметическое 7 и 11\n",
    "print(sr + Avg(7, 11))"
   ],
   "metadata": {
    "collapsed": false,
    "pycharm": {
     "name": "#%%\n"
    }
   }
  },
  {
   "cell_type": "markdown",
   "source": [
    "### Задание 2"
   ],
   "metadata": {
    "collapsed": false,
    "pycharm": {
     "name": "#%% md\n"
    }
   }
  },
  {
   "cell_type": "code",
   "execution_count": 13,
   "outputs": [
    {
     "name": "stdout",
     "output_type": "stream",
     "text": [
      "Да\n"
     ]
    }
   ],
   "source": [
    "# Ответ\n",
    "a = 3\n",
    "b = 5\n",
    "x = 2\n",
    "\n",
    "if Avg(a, b) > x:\n",
    "\tprint('Да')"
   ],
   "metadata": {
    "collapsed": false,
    "pycharm": {
     "name": "#%%\n"
    }
   }
  },
  {
   "cell_type": "markdown",
   "source": [
    "### Задание 3\n"
   ],
   "metadata": {
    "collapsed": false,
    "pycharm": {
     "name": "#%% md\n"
    }
   }
  },
  {
   "cell_type": "code",
   "execution_count": 15,
   "outputs": [
    {
     "name": "stdout",
     "output_type": "stream",
     "text": [
      "4\n"
     ]
    }
   ],
   "source": [
    "# Ответ\n",
    "a = 2\n",
    "b = 2\n",
    "x = 5\n",
    "\n",
    "# Счетчик итераций\n",
    "iterations = 0\n",
    "\n",
    "\n",
    "while Avg(a, b) < x - 1:\n",
    "\tb += 1\n",
    "\titerations += 1\n",
    "\n",
    "\n",
    "# Проверяем, сколько раз выполнился цикл\n",
    "print(iterations)"
   ],
   "metadata": {
    "collapsed": false,
    "pycharm": {
     "name": "#%%\n"
    }
   }
  },
  {
   "cell_type": "markdown",
   "source": [
    "### Задание 4"
   ],
   "metadata": {
    "collapsed": false,
    "pycharm": {
     "name": "#%% md\n"
    }
   }
  },
  {
   "cell_type": "code",
   "execution_count": 17,
   "outputs": [
    {
     "name": "stdout",
     "output_type": "stream",
     "text": [
      "Да\n"
     ]
    }
   ],
   "source": [
    "# Учебник 73 страница\n",
    "def Even(n):\n",
    "\treturn (n % 2 == 0)\n",
    "\n",
    "# Ответ\n",
    "a = 2\n",
    "b = 2\n",
    "\n",
    "# Само задание\n",
    "if Even(a + 3 * b):\n",
    "\tprint('Да')\n"
   ],
   "metadata": {
    "collapsed": false,
    "pycharm": {
     "name": "#%%\n"
    }
   }
  },
  {
   "cell_type": "markdown",
   "source": [
    "### Задание 5"
   ],
   "metadata": {
    "collapsed": false,
    "pycharm": {
     "name": "#%% md\n"
    }
   }
  },
  {
   "cell_type": "code",
   "execution_count": 29,
   "outputs": [
    {
     "name": "stdout",
     "output_type": "stream",
     "text": [
      "4\n"
     ]
    }
   ],
   "source": [
    "# Ответ\n",
    "a = 80\n",
    "\n",
    "iterations = 0\n",
    "\n",
    "while Even(a) and a > 5:\n",
    "\ta = a // 2\n",
    "\titerations += 1\n",
    "\t\n",
    "# Проверяем, сколько раз выполнился цикл\n",
    "print(iterations)"
   ],
   "metadata": {
    "collapsed": false,
    "pycharm": {
     "name": "#%%\n"
    }
   }
  }
 ],
 "metadata": {
  "kernelspec": {
   "display_name": "Python 3",
   "language": "python",
   "name": "python3"
  },
  "language_info": {
   "codemirror_mode": {
    "name": "ipython",
    "version": 2
   },
   "file_extension": ".py",
   "mimetype": "text/x-python",
   "name": "python",
   "nbconvert_exporter": "python",
   "pygments_lexer": "ipython2",
   "version": "2.7.6"
  }
 },
 "nbformat": 4,
 "nbformat_minor": 0
}